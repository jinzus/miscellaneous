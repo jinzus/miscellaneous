{
  "nbformat": 4,
  "nbformat_minor": 0,
  "metadata": {
    "colab": {
      "name": "HIERARCHICAL CLUSTERING.ipynb",
      "provenance": [],
      "collapsed_sections": [],
      "authorship_tag": "ABX9TyOEJW8XO90ZW+nlmMTTRpVq",
      "include_colab_link": true
    },
    "kernelspec": {
      "name": "python3",
      "display_name": "Python 3"
    }
  },
  "cells": [
    {
      "cell_type": "markdown",
      "metadata": {
        "id": "view-in-github",
        "colab_type": "text"
      },
      "source": [
        "<a href=\"https://colab.research.google.com/github/jinzus/miscellaneous/blob/main/HIERARCHICAL_CLUSTERING.ipynb\" target=\"_parent\"><img src=\"https://colab.research.google.com/assets/colab-badge.svg\" alt=\"Open In Colab\"/></a>"
      ]
    },
    {
      "cell_type": "markdown",
      "metadata": {
        "id": "KAAnGZNWlMGk"
      },
      "source": [
        "*\"Think of many tiny bubbles floating on water and gradually attaching to each other until there's one big group of bubbles.\"*  [from \"Hands-On Machine Learning with Scikit-Learn, Keras and TensorFlow; Aurélien Géron]\n",
        "\n",
        "This is a wonderful metaphor to describe the fundamental idea in Agglomerative Clustering.\n",
        "Let's now implement the algorithm from scratch!"
      ]
    },
    {
      "cell_type": "code",
      "metadata": {
        "id": "kHL7FGVelHhe"
      },
      "source": [
        "# Import dependencies\n",
        "\n",
        "import numpy as np\n",
        "from sklearn import datasets\n",
        "from scipy.spatial import distance_matrix\n",
        "from sklearn.cluster import AgglomerativeClustering\n",
        "import matplotlib.pyplot as plt \n",
        "from scipy.cluster.hierarchy import dendrogram"
      ],
      "execution_count": 1,
      "outputs": []
    },
    {
      "cell_type": "code",
      "metadata": {
        "id": "5kf06oTElSRV"
      },
      "source": [
        "# The algorithm is built over the first ten instances due to visualization purposes, but it can be extended to any number of instances in this dataset\n",
        "# The names of the instances are their indices\n",
        "\n",
        "iris=datasets.load_iris()\n",
        "dataset=iris.data[:10]\n",
        "sim=distance_matrix(dataset,dataset)"
      ],
      "execution_count": 2,
      "outputs": []
    },
    {
      "cell_type": "code",
      "metadata": {
        "id": "O7ErTErwlUUD"
      },
      "source": [
        "# The linkage can be performed in different modes, in the following I have implement single, complete and average.\n",
        "\n",
        "class HierarchicalClustering:\n",
        "  def __init__(self,mat,names=None,mode=\"single\"):\n",
        "    self.similarity_mat=mat\n",
        "    self.mode=mode\n",
        "    self.data=len(mat)-1\n",
        "    self.clusternames=[]\n",
        "    if names:\n",
        "      self.singles=names\n",
        "    else: \n",
        "      self.singles=[str(item) for item in np.arange(len(mat))]\n",
        "  def train(self):\n",
        "    def linkage(vec,take,mode=self.mode):\n",
        "      if mode==\"single\":\n",
        "        cluster=np.min(vec,axis=0)\n",
        "      elif mode==\"average\":\n",
        "        cluster=np.mean(vec,axis=0)\n",
        "      elif mode==\"complete\":\n",
        "        cluster=np.max(vec,axis=0)\n",
        "      for item in sorted(take.tolist())[::-1]:\n",
        "        cluster=np.delete(cluster,item)\n",
        "      cluster=np.concatenate((cluster,np.array([0])))\n",
        "      return cluster\n",
        "    def build_dendrogram():\n",
        "      items=[self.singles[m_similar[0]]+\"-\"+self.singles[m_similar[1]]]\n",
        "      for ind in sorted(m_similar)[::-1]:\n",
        "        del(self.singles[ind])\n",
        "      self.singles.extend(items)\n",
        "      self.clusternames.append(items+[\"similarity: {:.2f}\".format(min_val)])\n",
        "    def update_mat():\n",
        "      collect=set()\n",
        "      for row in self.similarity_mat:\n",
        "        for col in row:\n",
        "          collect.add(col)\n",
        "      min_val=min(collect-{0})\n",
        "      most_similar=np.argwhere(self.similarity_mat==min_val)[0]\n",
        "      similars=np.vstack((self.similarity_mat[most_similar[0]],self.similarity_mat[most_similar[1]]))\n",
        "      cluster=linkage(similars,most_similar)\n",
        "      smaller=self.similarity_mat\n",
        "      for ind in range(len(most_similar)):\n",
        "        for item in sorted(most_similar.tolist())[::-1]:\n",
        "          smaller=np.delete(smaller,item,ind)\n",
        "      update=np.empty((len(self.similarity_mat)-1,len(self.similarity_mat)-1))\n",
        "      for ind,item in enumerate(smaller):\n",
        "        update[ind,:-1]=item\n",
        "      update[-1]=cluster\n",
        "      update[:,-1]=cluster\n",
        "      return most_similar,min_val,update\n",
        "    for item in range(self.data):\n",
        "      m_similar,min_val,self.similarity_mat=update_mat()\n",
        "      build_dendrogram()"
      ],
      "execution_count": 3,
      "outputs": []
    },
    {
      "cell_type": "code",
      "metadata": {
        "id": "2pz9uETSlaZ0",
        "outputId": "7040e500-d326-4771-b585-9bd570e085d8",
        "colab": {
          "base_uri": "https://localhost:8080/"
        }
      },
      "source": [
        "single_linkage=HierarchicalClustering(sim)\n",
        "single_linkage.train()\n",
        "single_linkage.clusternames"
      ],
      "execution_count": 4,
      "outputs": [
        {
          "output_type": "execute_result",
          "data": {
            "text/plain": [
              "[['0-4', 'similarity: 0.14'],\n",
              " ['7-0-4', 'similarity: 0.17'],\n",
              " ['1-9', 'similarity: 0.17'],\n",
              " ['2-3', 'similarity: 0.24'],\n",
              " ['6-2-3', 'similarity: 0.26'],\n",
              " ['8-6-2-3', 'similarity: 0.30'],\n",
              " ['1-9-8-6-2-3', 'similarity: 0.30'],\n",
              " ['7-0-4-1-9-8-6-2-3', 'similarity: 0.33'],\n",
              " ['5-7-0-4-1-9-8-6-2-3', 'similarity: 0.62']]"
            ]
          },
          "metadata": {
            "tags": []
          },
          "execution_count": 4
        }
      ]
    },
    {
      "cell_type": "code",
      "metadata": {
        "id": "aWFOf9-GlfTa",
        "outputId": "2a192df0-3b77-43e3-b050-ea2771ac7579",
        "colab": {
          "base_uri": "https://localhost:8080/"
        }
      },
      "source": [
        "complete_linkage=HierarchicalClustering(sim,mode=\"complete\")\n",
        "complete_linkage.train()\n",
        "complete_linkage.clusternames"
      ],
      "execution_count": 5,
      "outputs": [
        {
          "output_type": "execute_result",
          "data": {
            "text/plain": [
              "[['0-4', 'similarity: 0.14'],\n",
              " ['1-9', 'similarity: 0.17'],\n",
              " ['7-0-4', 'similarity: 0.22'],\n",
              " ['2-3', 'similarity: 0.24'],\n",
              " ['6-2-3', 'similarity: 0.33'],\n",
              " ['1-9-6-2-3', 'similarity: 0.51'],\n",
              " ['8-1-9-6-2-3', 'similarity: 0.56'],\n",
              " ['5-7-0-4', 'similarity: 0.70'],\n",
              " ['8-1-9-6-2-3-5-7-0-4', 'similarity: 1.46']]"
            ]
          },
          "metadata": {
            "tags": []
          },
          "execution_count": 5
        }
      ]
    },
    {
      "cell_type": "code",
      "metadata": {
        "id": "3eDcH6ublhbf",
        "outputId": "36b21edf-0bc2-4f55-a586-06c9e96a3736",
        "colab": {
          "base_uri": "https://localhost:8080/"
        }
      },
      "source": [
        "average_linkage=HierarchicalClustering(sim,mode=\"average\")\n",
        "average_linkage.train()\n",
        "average_linkage.clusternames"
      ],
      "execution_count": 6,
      "outputs": [
        {
          "output_type": "execute_result",
          "data": {
            "text/plain": [
              "[['0-4', 'similarity: 0.14'],\n",
              " ['1-9', 'similarity: 0.17'],\n",
              " ['7-0-4', 'similarity: 0.20'],\n",
              " ['2-3', 'similarity: 0.24'],\n",
              " ['6-2-3', 'similarity: 0.30'],\n",
              " ['1-9-6-2-3', 'similarity: 0.41'],\n",
              " ['7-0-4-1-9-6-2-3', 'similarity: 0.47'],\n",
              " ['8-7-0-4-1-9-6-2-3', 'similarity: 0.68'],\n",
              " ['5-8-7-0-4-1-9-6-2-3', 'similarity: 1.16']]"
            ]
          },
          "metadata": {
            "tags": []
          },
          "execution_count": 6
        }
      ]
    },
    {
      "cell_type": "markdown",
      "metadata": {
        "id": "bRxx4-3blo4y"
      },
      "source": [
        "SKLEARN IMPLEMENTATION: Let's evaluate if the algorithm corresponds to the basic version offered by Scikit_Learn"
      ]
    },
    {
      "cell_type": "code",
      "metadata": {
        "id": "1z_QzD6ZliZE",
        "outputId": "e49bd15c-ec0b-4bd8-aeef-87abfc2880b4",
        "colab": {
          "base_uri": "https://localhost:8080/",
          "height": 884
        }
      },
      "source": [
        "#Single linkage\n",
        "\n",
        "mode=\"single\"\n",
        "\n",
        "clustering=AgglomerativeClustering(distance_threshold=0,n_clusters=None,linkage=mode).fit(dataset)\n",
        "\n",
        "def plot_dendrogram(model, **kwargs):\n",
        "    counts = np.zeros(model.children_.shape[0])\n",
        "    n_samples = len(model.labels_)\n",
        "    for i, merge in enumerate(model.children_):\n",
        "        current_count = 0\n",
        "        for child_idx in merge:\n",
        "            if child_idx < n_samples:\n",
        "                current_count += 1 \n",
        "            else:\n",
        "                current_count += counts[child_idx - n_samples]\n",
        "        counts[i] = current_count\n",
        "\n",
        "    linkage_matrix = np.column_stack([model.children_, model.distances_,\n",
        "                                      counts]).astype(float)\n",
        "    dendrogram(linkage_matrix, **kwargs)\n",
        "\n",
        "plt.figure(figsize=(20,15))\n",
        "plt.title(\"Dendrogram in {:s} mode\".format(mode),fontsize=15)\n",
        "plot_dendrogram(clustering)"
      ],
      "execution_count": 7,
      "outputs": [
        {
          "output_type": "display_data",
          "data": {
            "image/png": "[encoded data removed]",
            "text/plain": [
              "<Figure size 1440x1080 with 1 Axes>"
            ]
          },
          "metadata": {
            "tags": [],
            "needs_background": "light"
          }
        }
      ]
    },
    {
      "cell_type": "code",
      "metadata": {
        "id": "UPaGU7S6lqIF",
        "outputId": "06f657e2-e012-44b4-f57a-8c60682ce865",
        "colab": {
          "base_uri": "https://localhost:8080/",
          "height": 884
        }
      },
      "source": [
        "# Complete linkage\n",
        "\n",
        "mode=\"complete\"\n",
        "\n",
        "clustering=AgglomerativeClustering(distance_threshold=0,n_clusters=None,linkage=mode).fit(dataset)\n",
        "\n",
        "\n",
        "def plot_dendrogram(model, **kwargs):\n",
        "    counts = np.zeros(model.children_.shape[0])\n",
        "    n_samples = len(model.labels_)\n",
        "    for i, merge in enumerate(model.children_):\n",
        "        current_count = 0\n",
        "        for child_idx in merge:\n",
        "            if child_idx < n_samples:\n",
        "                current_count += 1 \n",
        "            else:\n",
        "                current_count += counts[child_idx - n_samples]\n",
        "        counts[i] = current_count\n",
        "\n",
        "    linkage_matrix = np.column_stack([model.children_, model.distances_,\n",
        "                                      counts]).astype(float)\n",
        "    dendrogram(linkage_matrix, **kwargs)\n",
        "\n",
        "plt.figure(figsize=(20,15))\n",
        "plt.title(\"Dendrogram in {:s} mode\".format(mode),fontsize=15)\n",
        "plot_dendrogram(clustering)"
      ],
      "execution_count": 8,
      "outputs": [
        {
          "output_type": "display_data",
          "data": {
            "image/png": "[encoded data removed]",
            "text/plain": [
              "<Figure size 1440x1080 with 1 Axes>"
            ]
          },
          "metadata": {
            "tags": [],
            "needs_background": "light"
          }
        }
      ]
    },
    {
      "cell_type": "code",
      "metadata": {
        "id": "b7lDOq9tlthF",
        "outputId": "c614802f-98b8-4afa-eb6c-a663bec77ba4",
        "colab": {
          "base_uri": "https://localhost:8080/",
          "height": 884
        }
      },
      "source": [
        "# Average linkage\n",
        "\n",
        "mode=\"average\"\n",
        "\n",
        "clustering=AgglomerativeClustering(distance_threshold=0,n_clusters=None,linkage=mode).fit(dataset)\n",
        "\n",
        "\n",
        "def plot_dendrogram(model, **kwargs):\n",
        "    counts = np.zeros(model.children_.shape[0])\n",
        "    n_samples = len(model.labels_)\n",
        "    for i, merge in enumerate(model.children_):\n",
        "        current_count = 0\n",
        "        for child_idx in merge:\n",
        "            if child_idx < n_samples:\n",
        "                current_count += 1 \n",
        "            else:\n",
        "                current_count += counts[child_idx - n_samples]\n",
        "        counts[i] = current_count\n",
        "\n",
        "    linkage_matrix = np.column_stack([model.children_, model.distances_,\n",
        "                                      counts]).astype(float)\n",
        "    dendrogram(linkage_matrix, **kwargs)\n",
        "\n",
        "plt.figure(figsize=(20,15))\n",
        "plt.title(\"Dendrogram in {:s} mode\".format(mode),fontsize=15)\n",
        "plot_dendrogram(clustering)"
      ],
      "execution_count": 9,
      "outputs": [
        {
          "output_type": "display_data",
          "data": {
            "image/png": "[encoded data removed]",
            "text/plain": [
              "<Figure size 1440x1080 with 1 Axes>"
            ]
          },
          "metadata": {
            "tags": [],
            "needs_background": "light"
          }
        }
      ]
    }
  ]
}