{
  "nbformat": 4,
  "nbformat_minor": 0,
  "metadata": {
    "colab": {
      "name": "K_MEANS.ipynb",
      "provenance": [],
      "collapsed_sections": [],
      "authorship_tag": "ABX9TyNiDIYkU/2y5Fhail5cjwk0",
      "include_colab_link": true
    },
    "kernelspec": {
      "name": "python3",
      "display_name": "Python 3"
    }
  },
  "cells": [
    {
      "cell_type": "markdown",
      "metadata": {
        "id": "view-in-github",
        "colab_type": "text"
      },
      "source": [
        "<a href=\"https://colab.research.google.com/github/jinzus/miscellaneous/blob/main/K_MEANS.ipynb\" target=\"_parent\"><img src=\"https://colab.research.google.com/assets/colab-badge.svg\" alt=\"Open In Colab\"/></a>"
      ]
    },
    {
      "cell_type": "markdown",
      "metadata": {
        "id": "LuEuLP-gRGks"
      },
      "source": [
        "K_means is a very well known clustering algorithm. Even if it has many limitations due to its assumptions and is a rather basic approach, in some applications may be the right choice. Morevorer, it's one of the fastest clustering algorithms!\n",
        "Let's implement the algorithm from scratch!"
      ]
    },
    {
      "cell_type": "code",
      "metadata": {
        "id": "OHEf7wcoQxoX"
      },
      "source": [
        "# Import dependencies\n",
        "\n",
        "import numpy as np\n",
        "import matplotlib.pyplot as plt\n",
        "from scipy.spatial import distance_matrix\n",
        "from scipy.spatial.distance import euclidean\n",
        "from sklearn.preprocessing import StandardScaler\n",
        "import math\n",
        "%matplotlib inline"
      ],
      "execution_count": 1,
      "outputs": []
    },
    {
      "cell_type": "code",
      "metadata": {
        "id": "nKo_6squQ2-p",
        "outputId": "0cef2bd7-83af-4fe5-9362-00a33b0b8a80",
        "colab": {
          "base_uri": "https://localhost:8080/",
          "height": 298
        }
      },
      "source": [
        "# Create the dataset\n",
        "\n",
        "def generate_dataset():\n",
        "  global n_instances\n",
        "  n_instances=250\n",
        "  dataset=np.empty((n_instances,2))\n",
        "  n_instances_gauss_1=83\n",
        "  n_instances_gauss_2=83\n",
        "  n_instances_gauss_3=84\n",
        "  gauss_1_loc_1,gauss_1_scale_1=2,3\n",
        "  gauss_1_loc_2,gauss_1_scale_2=20,3\n",
        "  gauss_2_loc_1,gauss_2_scale_1=8,3\n",
        "  gauss_2_loc_2,gaus_2_scale_2=3,3\n",
        "  gauss_3_loc_1,gauss_3_scale_1=18,3\n",
        "  gauss_3_loc_2,gaus_3_scale_2=15,3\n",
        "\n",
        "  for item in range(n_instances_gauss_1):\n",
        "    feat_1=np.random.normal(gauss_1_loc_1,gauss_1_scale_1,1)+np.random.randint(0,2,1)\n",
        "    feat_2=np.random.normal(gauss_1_loc_2,gauss_1_scale_2,1)+np.random.randint(0,2,1)\n",
        "    dataset[item,0]=feat_1\n",
        "    dataset[item,1]=feat_2\n",
        "\n",
        "  for item in range(n_instances_gauss_1,n_instances_gauss_1+n_instances_gauss_2):\n",
        "    feat_1=np.random.normal(gauss_2_loc_1,gauss_2_scale_1,1)+np.random.randint(0,2,1)\n",
        "    feat_2=np.random.normal(gauss_2_loc_2,gaus_2_scale_2,1)+np.random.randint(0,2,1)\n",
        "    dataset[item,0]=feat_1\n",
        "    dataset[item,1]=feat_2\n",
        "\n",
        "  for item in range(n_instances_gauss_1+n_instances_gauss_2,n_instances_gauss_1+n_instances_gauss_2+n_instances_gauss_3):\n",
        "    feat_1=np.random.normal(gauss_3_loc_1,gauss_3_scale_1,1)+np.random.randint(0,2,1)\n",
        "    feat_2=np.random.normal(gauss_3_loc_2,gaus_3_scale_2,1)+np.random.randint(0,2,1)\n",
        "    dataset[item,0]=feat_1\n",
        "    dataset[item,1]=feat_2\n",
        "  \n",
        "  return StandardScaler().fit_transform(dataset)\n",
        "\n",
        "np.random.seed(13)\n",
        "dataset=generate_dataset()\n",
        "plt.scatter(dataset[:,0],dataset[:,1])\n",
        "plt.title(\"Scatter plot\",fontsize=12)"
      ],
      "execution_count": 2,
      "outputs": [
        {
          "output_type": "execute_result",
          "data": {
            "text/plain": [
              "Text(0.5, 1.0, 'Scatter plot')"
            ]
          },
          "metadata": {
            "tags": []
          },
          "execution_count": 2
        },
        {
          "output_type": "display_data",
          "data": {
            "image/png": "[encoded data removed]",
            "text/plain": [
              "<Figure size 432x288 with 1 Axes>"
            ]
          },
          "metadata": {
            "tags": [],
            "needs_background": "light"
          }
        }
      ]
    },
    {
      "cell_type": "code",
      "metadata": {
        "id": "y0pQKODtRAMX"
      },
      "source": [
        "class K_Means_Clustering:\n",
        "  def __init__(self,n_clusters=3,inizializations=5,max_iter=500,early_stop=8):\n",
        "    self.n_clusters=n_clusters\n",
        "    self.inizializations=inizializations\n",
        "    self.max_iter=max_iter\n",
        "    self.early_stop=early_stop\n",
        "  def train(self):\n",
        "    # Extract n_clusters centroids chosen randomly from dataset instances\n",
        "    def random_init():\n",
        "      n_features=dataset.shape[-1]\n",
        "      centroids=np.empty((self.n_clusters,n_features))\n",
        "      for item in range(self.n_clusters):\n",
        "        index=np.random.randint(0,(n_instances-1),1)\n",
        "        centroids[item]=dataset[index]\n",
        "      return centroids\n",
        "    # Compute the distance between each centroid and each instance\n",
        "    def update(centroids):\n",
        "      distances=distance_matrix(dataset,centroids)\n",
        "      ass_index=np.argmin(distances,axis=-1)\n",
        "      closest_cluster=centroids[ass_index]\n",
        "      # Compute inertias\n",
        "      inertia=np.empty((n_instances,1))\n",
        "      for item in range(n_instances):\n",
        "        inertia[item]=euclidean(dataset[item],closest_cluster[item])\n",
        "      total_inertia=inertia.sum(axis=0)\n",
        "      # Compute means:\n",
        "      means=[]\n",
        "      for item in range(self.n_clusters):\n",
        "        means.append(np.mean(dataset[ass_index==item],axis=0))\n",
        "      for item in range(self.n_clusters):\n",
        "        centroids[item]=means[item]\n",
        "      return centroids,distances,total_inertia,ass_index \n",
        "    store_indices=[]\n",
        "    store_inertia=[]\n",
        "    store_distances=[]\n",
        "    store_centroids=[]\n",
        "    best_iter=[]\n",
        "    for _ in range(self.inizializations): \n",
        "      previous_inertia=float(\"inf\")\n",
        "      inertias=[]\n",
        "      no_improve=0\n",
        "      for iter in range(self.max_iter):\n",
        "        if iter==0:\n",
        "          centroids=random_init()\n",
        "        centroids,distances,total_inertia,index_assignments=update(centroids)\n",
        "        inertias.append(total_inertia[0])\n",
        "        if total_inertia!=previous_inertia:\n",
        "          previous_inertia=total_inertia\n",
        "          no_improve+=0\n",
        "        else:\n",
        "          no_improve+=1\n",
        "          if no_improve==self.early_stop:\n",
        "            break\n",
        "      best_iter.append(inertias)\n",
        "      store_indices.append(index_assignments)\n",
        "      store_inertia.append(total_inertia)\n",
        "      store_distances.append(distances)\n",
        "      store_centroids.append(centroids)\n",
        "      last_steps=[]\n",
        "      for item in best_iter:\n",
        "        last_step=item[-1]\n",
        "        last_steps.append(last_step)\n",
        "      best_one=np.argwhere(last_steps==min(last_steps))[0,0]\n",
        "    return store_indices[best_one],store_inertia[best_one],store_distances[best_one],store_centroids[best_one] "
      ],
      "execution_count": 3,
      "outputs": []
    },
    {
      "cell_type": "code",
      "metadata": {
        "id": "YFc9Pu9lRBOo"
      },
      "source": [
        "k_means=K_Means_Clustering()\n",
        "get_index,get_inertia,get_distance,get_centroids=k_means.train()"
      ],
      "execution_count": 4,
      "outputs": []
    },
    {
      "cell_type": "code",
      "metadata": {
        "id": "EiHGJiMwRDWd",
        "outputId": "54957804-4eec-4d2f-9a0a-1980146ce946",
        "colab": {
          "base_uri": "https://localhost:8080/",
          "height": 425
        }
      },
      "source": [
        "plt.figure(figsize=(8,6))\n",
        "plt.plot(dataset[:,0][get_index==0],dataset[:,1][get_index==0],\"y.\",label=\"First cluster\")\n",
        "plt.plot(dataset[:,0][get_index==1],dataset[:,1][get_index==1],\"g.\",label=\"Second cluster\")\n",
        "plt.plot(dataset[:,0][get_index==2],dataset[:,1][get_index==2],\"b.\",label=\"Third cluster\")\n",
        "for centroid in range(3):\n",
        "  plt.plot(get_centroids[centroid,0],get_centroids[centroid,1],\"xr\",markersize=12)\n",
        "plt.title(\"$K-means$ $clustering$\",fontsize=15)\n",
        "plt.xlabel(\"First dimension\",fontsize=10)\n",
        "plt.ylabel(\"Second dimension\",fontsize=10)\n",
        "plt.legend(loc=\"upper right\")"
      ],
      "execution_count": 5,
      "outputs": [
        {
          "output_type": "execute_result",
          "data": {
            "text/plain": [
              "<matplotlib.legend.Legend at 0x7f39ab99e278>"
            ]
          },
          "metadata": {
            "tags": []
          },
          "execution_count": 5
        },
        {
          "output_type": "display_data",
          "data": {
            "image/png": "[encoded data removed]",
            "text/plain": [
              "<Figure size 576x432 with 1 Axes>"
            ]
          },
          "metadata": {
            "tags": [],
            "needs_background": "light"
          }
        }
      ]
    }
  ]
}