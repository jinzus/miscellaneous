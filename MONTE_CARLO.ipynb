{
  "nbformat": 4,
  "nbformat_minor": 0,
  "metadata": {
    "colab": {
      "name": "MONTE_CARLO.ipynb",
      "provenance": [],
      "collapsed_sections": [],
      "authorship_tag": "ABX9TyM8YFCWTJytqt9wzhoUqEW4",
      "include_colab_link": true
    },
    "kernelspec": {
      "name": "python3",
      "display_name": "Python 3"
    }
  },
  "cells": [
    {
      "cell_type": "markdown",
      "metadata": {
        "id": "view-in-github",
        "colab_type": "text"
      },
      "source": [
        "<a href=\"https://colab.research.google.com/github/jinzus/miscellaneous/blob/main/MONTE_CARLO.ipynb\" target=\"_parent\"><img src=\"https://colab.research.google.com/assets/colab-badge.svg\" alt=\"Open In Colab\"/></a>"
      ]
    },
    {
      "cell_type": "code",
      "metadata": {
        "id": "LuR_mkDkz_Ri"
      },
      "source": [
        "import numpy as np\r\n",
        "from scipy.special import binom\r\n",
        "import matplotlib.pyplot as plt\r\n"
      ],
      "execution_count": 108,
      "outputs": []
    },
    {
      "cell_type": "code",
      "metadata": {
        "colab": {
          "base_uri": "https://localhost:8080/",
          "height": 458
        },
        "id": "pQEDgQoC0Lsc",
        "outputId": "4a238f40-77f3-45ee-e78a-2cccb5be88ac"
      },
      "source": [
        "n_prove=10\r\n",
        "simulazioni=100\r\n",
        "np.random.seed(32)\r\n",
        "x=np.random.randint(0,2,(simulazioni,n_prove))\r\n",
        "successi=x.sum(axis=-1)\r\n",
        "\r\n",
        "# Tabella con il numero di successi\r\n",
        "tabella=np.empty((11,2))\r\n",
        "for indice in range(11):\r\n",
        "  riga=np.array([indice,len(successi[successi==indice])])\r\n",
        "  tabella[indice]=riga\r\n",
        "\r\n",
        "tabella=tabella.astype(np.int16)\r\n",
        "tabella\r\n",
        "bar(tabella[:,0],tabella[:,1])\r\n",
        "\r\n",
        "\r\n",
        "tabella\r\n"
      ],
      "execution_count": 178,
      "outputs": [
        {
          "output_type": "execute_result",
          "data": {
            "text/plain": [
              "array([[ 0,  0],\n",
              "       [ 1,  3],\n",
              "       [ 2,  5],\n",
              "       [ 3, 13],\n",
              "       [ 4, 19],\n",
              "       [ 5, 27],\n",
              "       [ 6, 19],\n",
              "       [ 7,  8],\n",
              "       [ 8,  5],\n",
              "       [ 9,  1],\n",
              "       [10,  0]], dtype=int16)"
            ]
          },
          "metadata": {
            "tags": []
          },
          "execution_count": 178
        },
        {
          "output_type": "display_data",
          "data": {
            "image/png": "[encoded data removed]",
            "text/plain": [
              "<Figure size 432x288 with 1 Axes>"
            ]
          },
          "metadata": {
            "tags": [],
            "needs_background": "light"
          }
        }
      ]
    },
    {
      "cell_type": "code",
      "metadata": {
        "colab": {
          "base_uri": "https://localhost:8080/",
          "height": 282
        },
        "id": "ns_M6Yf43NY0",
        "outputId": "a5a42bc5-d0ad-4495-b52f-9ea2a9ceefe0"
      },
      "source": [
        "probabilità_binomiali_simulate=np.empty(tabella.shape)\r\n",
        "for indice in tabella[:,0]:\r\n",
        "  probabilità_binomiali_simulate[indice]=np.array([indice,tabella[indice,-1]/simulazioni])\r\n",
        "\r\n",
        "\r\n",
        "bar(probabilità_binomiali_simulate[:,0],probabilità_binomiali_simulate[:,1])\r\n"
      ],
      "execution_count": 179,
      "outputs": [
        {
          "output_type": "execute_result",
          "data": {
            "text/plain": [
              "<BarContainer object of 11 artists>"
            ]
          },
          "metadata": {
            "tags": []
          },
          "execution_count": 179
        },
        {
          "output_type": "display_data",
          "data": {
            "image/png": "[encoded data removed]",
            "text/plain": [
              "<Figure size 432x288 with 1 Axes>"
            ]
          },
          "metadata": {
            "tags": [],
            "needs_background": "light"
          }
        }
      ]
    },
    {
      "cell_type": "code",
      "metadata": {
        "colab": {
          "base_uri": "https://localhost:8080/",
          "height": 282
        },
        "id": "jJXGSYLu3Xv9",
        "outputId": "0e06ba20-703b-4b87-81b1-e02e2976ad3d"
      },
      "source": [
        "probabilità_binomiali_analitiche=np.empty(tabella.shape)\r\n",
        "for k in tabella[:,0]:\r\n",
        "  teorico=binom(n_prove,k)*(.5**k)*(.5**(n_prove-k))\r\n",
        "  probabilità_binomiali_analitiche[k]=np.array([k,teorico])\r\n",
        "\r\n",
        "bar(probabilità_binomiali_analitiche[:,0],probabilità_binomiali_analitiche[:,1])\r\n"
      ],
      "execution_count": 181,
      "outputs": [
        {
          "output_type": "execute_result",
          "data": {
            "text/plain": [
              "<BarContainer object of 11 artists>"
            ]
          },
          "metadata": {
            "tags": []
          },
          "execution_count": 181
        },
        {
          "output_type": "display_data",
          "data": {
            "image/png": "[encoded data removed]",
            "text/plain": [
              "<Figure size 432x288 with 1 Axes>"
            ]
          },
          "metadata": {
            "tags": [],
            "needs_background": "light"
          }
        }
      ]
    },
    {
      "cell_type": "code",
      "metadata": {
        "colab": {
          "base_uri": "https://localhost:8080/",
          "height": 282
        },
        "id": "HnO5Zr6O8U57",
        "outputId": "c827612e-bcb5-473c-e836-387d3f485999"
      },
      "source": [
        "ax1 = plt.subplot(1,1,1)\r\n",
        "analitiche =ax1.bar(probabilità_binomiali_analitiche[:,0],probabilità_binomiali_analitiche[:,1],  color='b', align='center')\r\n",
        "ax2 = ax1.twinx()\r\n",
        "simulate=ax2.bar(probabilità_binomiali_simulate[:,0],probabilità_binomiali_simulate[:,1],color='y',align='center',alpha=0.7)\r\n",
        "plt.legend([analitiche,simulate],[\"analitiche\",\"simulate\"])\r\n",
        "\r\n"
      ],
      "execution_count": 182,
      "outputs": [
        {
          "output_type": "execute_result",
          "data": {
            "text/plain": [
              "<matplotlib.legend.Legend at 0x7f41d7dc0400>"
            ]
          },
          "metadata": {
            "tags": []
          },
          "execution_count": 182
        },
        {
          "output_type": "display_data",
          "data": {
            "image/png": "[encoded data removed]",
            "text/plain": [
              "<Figure size 432x288 with 2 Axes>"
            ]
          },
          "metadata": {
            "tags": [],
            "needs_background": "light"
          }
        }
      ]
    }
  ]
}